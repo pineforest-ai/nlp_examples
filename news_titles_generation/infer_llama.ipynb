{
 "cells": [
  {
   "cell_type": "markdown",
   "metadata": {},
   "source": [
    "## Генерация заголовков с помощью LLaMa 2"
   ]
  },
  {
   "cell_type": "code",
   "execution_count": null,
   "metadata": {},
   "outputs": [],
   "source": [
    "import torch\n",
    "from peft import PeftModel\n",
    "import transformers\n",
    "from transformers import LlamaTokenizer, LlamaForCausalLM, GenerationConfig"
   ]
  },
  {
   "cell_type": "code",
   "execution_count": null,
   "metadata": {},
   "outputs": [],
   "source": [
    "DEVICE = \"cuda\" if torch.cuda.is_available() else \"cpu\"\n",
    "\n",
    "token = \"{your_hf_token}\"\n",
    "\n",
    "BASE_MODEL = \"meta-llama/Llama-2-7b-hf\"\n",
    "ADAPTER_MODEL = \"pineforest-ai/news-headings-rus\"\n",
    "\n",
    "# Инициализируем основную модель\n",
    "tokenizer = LlamaTokenizer.from_pretrained(BASE_MODEL, use_auth_token=token)\n",
    "\n",
    "model = LlamaForCausalLM.from_pretrained(\n",
    "    BASE_MODEL,\n",
    "    load_in_8bit=False,\n",
    "    device_map=\"auto\",\n",
    ")\n",
    "\n",
    "# Добавим к предобученной LLaMa2 адаптеры, обученные на задаче генерации заголовков\n",
    "model = PeftModel.from_pretrained(model, ADAPTER_MODEL, torch_dtype=torch.float16)"
   ]
  },
  {
   "cell_type": "code",
   "execution_count": null,
   "metadata": {},
   "outputs": [],
   "source": [
    "model.config.pad_token_id = tokenizer.pad_token_id = 0  # unk\n",
    "model.config.bos_token_id = 1\n",
    "model.config.eos_token_id = 2"
   ]
  },
  {
   "cell_type": "code",
   "execution_count": null,
   "metadata": {},
   "outputs": [],
   "source": [
    "model = model.eval()\n",
    "model = torch.compile(model)"
   ]
  },
  {
   "cell_type": "code",
   "execution_count": null,
   "metadata": {},
   "outputs": [],
   "source": [
    "INSTRUCTION = \"Сгенерируй заголовок к данному тексту.\""
   ]
  },
  {
   "cell_type": "code",
   "execution_count": null,
   "metadata": {},
   "outputs": [],
   "source": [
    "def generate_response(prompt, model):\n",
    "    encoding = tokenizer(prompt, return_tensors=\"pt\")\n",
    "    input_ids = encoding[\"input_ids\"].to(DEVICE)\n",
    " \n",
    "    generation_config = GenerationConfig(\n",
    "        temperature=0.1,\n",
    "        top_p=0.75,\n",
    "        repetition_penalty=1.1,\n",
    "    )\n",
    "    with torch.inference_mode():\n",
    "        return model.generate(\n",
    "            input_ids=input_ids,\n",
    "            generation_config=generation_config,\n",
    "            return_dict_in_generate=True,\n",
    "            output_scores=True,\n",
    "            max_new_tokens=128,\n",
    "        )"
   ]
  },
  {
   "cell_type": "code",
   "execution_count": null,
   "metadata": {},
   "outputs": [],
   "source": [
    "def generate_heading(text, model):\n",
    "    prompt = f\"{INSTRUCTION}\\nТекст:\\n{text}\\nЗаголовок: \"\n",
    "    response = generate_response(prompt, model)\n",
    "    decoded_output = tokenizer.decode(response.sequences[0], skip_special_tokens=True)\n",
    "    decoded_output_lines = decoded_output.split(\"\\n\")\n",
    "    for line in decoded_output_lines:\n",
    "        if \"Заголовок:\" in line:\n",
    "            heading = line\n",
    "            break\n",
    "    print(heading)"
   ]
  },
  {
   "cell_type": "code",
   "execution_count": null,
   "metadata": {},
   "outputs": [],
   "source": [
    "text = \"Модель ИИ для автоматического определения типа дыхания при терапии легких создали специалисты ВолгГТУ. \"\\\n",
    "       \"По их словам, разработка, не имеющая аналогов, может работать в домашних условиях с обычной камерой, \"\\\n",
    "       \"что расширяет возможности реабилитации. Результаты опубликованы в журнале Algorithms. По словам ученых, \"\\\n",
    "       \"специальные дыхательные тренировки являются одним из важнейших элементов реабилитации после ряда болезней, \"\\\n",
    "       \"также они могут быть эффективным способом снижения стресса и общего укрепления организма. \"\\\n",
    "       \"Для этого во всем мире активно разрабатываются технические комплексы, способные контролировать \"\\\n",
    "       \"качество тренировок с точностью, превосходящей возможности тренера-человека. Коллектив Волгоградской \"\\\n",
    "       \"инновационной лаборатории анализа и управления данными (V.I.S.D.O.M.) Волгоградского государственного \"\\\n",
    "       \"технического университета (ВолгГТУ) кафедры программного обеспечения автоматизированных систем совместно \"\\\n",
    "       \"с коллегами создал модель для реабилитации людей с патологиями дыхательной системы. По словам авторов, \"\\\n",
    "       \"разработка дает возможность организовать эффективные тренировки даже в домашних условиях.\""
   ]
  },
  {
   "cell_type": "code",
   "execution_count": null,
   "metadata": {},
   "outputs": [],
   "source": [
    "generate_heading(text, model)"
   ]
  }
 ],
 "metadata": {
  "kernelspec": {
   "display_name": "Python 3",
   "language": "python",
   "name": "python3"
  },
  "language_info": {
   "codemirror_mode": {
    "name": "ipython",
    "version": 3
   },
   "file_extension": ".py",
   "mimetype": "text/x-python",
   "name": "python",
   "nbconvert_exporter": "python",
   "pygments_lexer": "ipython3",
   "version": "3.8.8"
  }
 },
 "nbformat": 4,
 "nbformat_minor": 4
}
